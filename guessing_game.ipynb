{
 "cells": [
  {
   "cell_type": "markdown",
   "metadata": {},
   "source": [
    " Write a Python script that does the following:\n",
    "1. It creates a random integer between 1 and 100\n",
    "2. It lets the user guess the number\n",
    "3. If the number is not guessed it indicates if the\n",
    "value is too high or too low and repeats step 2\n",
    "4. It reports how many attempts were needed"
   ]
  },
  {
   "cell_type": "code",
   "execution_count": null,
   "metadata": {},
   "outputs": [],
   "source": [
    "# we will need just one function from the random module\n",
    "from random import randint"
   ]
  },
  {
   "cell_type": "code",
   "execution_count": null,
   "metadata": {},
   "outputs": [],
   "source": [
    "# creates a random integer between 1 and 100\n",
    "start = 1\n",
    "end = 100\n",
    "number = randint(start,end)\n",
    "\n",
    "# initialise variable with a value outside the range\n",
    "guess = start - 1\n",
    "\n",
    "# keep track of number of guesses\n",
    "attempts = 0"
   ]
  },
  {
   "cell_type": "code",
   "execution_count": null,
   "metadata": {},
   "outputs": [],
   "source": [
    "# keep looping as long as guess is wrong\n",
    "while guess != number :\n",
    "    \n",
    "    # lets the user guess the number\n",
    "    guess = int(input(f'Please make a guess {start} - {end}: '))\n",
    "\n",
    "    # increment counter\n",
    "    attempts += 1\n",
    "    \n",
    "    # indicates if the value is too high or too low\n",
    "    if guess > number :\n",
    "        print('Wrong, your guess was too high')\n",
    "    elif guess < number :\n",
    "        print('Wrong, your guess was too low')\n",
    "    \n",
    " \n",
    "# Success! Print number of guesses:\n",
    "print(f'You guessed correctly after {attempts} attempts')"
   ]
  }
 ],
 "metadata": {
  "kernelspec": {
   "display_name": "Python 3",
   "language": "python",
   "name": "python3"
  },
  "language_info": {
   "codemirror_mode": {
    "name": "ipython",
    "version": 3
   },
   "file_extension": ".py",
   "mimetype": "text/x-python",
   "name": "python",
   "nbconvert_exporter": "python",
   "pygments_lexer": "ipython3",
   "version": "3.6.9"
  }
 },
 "nbformat": 4,
 "nbformat_minor": 4
}
